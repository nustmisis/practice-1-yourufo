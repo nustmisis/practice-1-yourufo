{
  "cells": [
    {
      "cell_type": "markdown",
      "id": "ee761a4d",
      "metadata": {
        "id": "ee761a4d"
      },
      "source": [
        "## Практика №1\n",
        "\n",
        "Jupyter-ноутбук — интерактивная среда разработки с «живым» кодом. В ней показана визуализация работы. Если разработчик хочет посмотреть на график или формулу, он пишет нужную команду в соответствующей ячейке. Такой подход экономит время и помогает избежать ошибок.\n",
        "\n",
        "\n"
      ]
    },
    {
      "cell_type": "markdown",
      "id": "e48306d5",
      "metadata": {
        "id": "e48306d5"
      },
      "source": [
        "## Полезные особенности\n",
        "\n",
        "Полный список хоткеев — в разделе Help → Keyboard Shortcuts.\n",
        "Магические команды, которые работают в ipython, которые могут помочь вам запускать и анализировать данные в jupyter nootbook. Они добавляют специальную функциональность, которую нелегко достичь с помощью кода Python или интерфейса ноутбука Jupyter.\n",
        "\n",
        "Все команды доступны по ссылке %lsmagic"
      ]
    },
    {
      "cell_type": "markdown",
      "id": "9bd76b2c",
      "metadata": {
        "id": "9bd76b2c"
      },
      "source": [
        "### Работа с ячейками\n",
        "Код выполняется внутри ячеек,последовательно исходя из номера слева от ячейки."
      ]
    },
    {
      "cell_type": "code",
      "execution_count": null,
      "id": "c5cec0a1",
      "metadata": {
        "id": "c5cec0a1"
      },
      "outputs": [],
      "source": [
        "#Это комментарии, он не влияет на работу кода\n",
        "a=1\n",
        "print('Вывод переменной а = ',a)"
      ]
    },
    {
      "cell_type": "code",
      "execution_count": null,
      "id": "536a28ff",
      "metadata": {
        "id": "536a28ff"
      },
      "outputs": [],
      "source": [
        "b=2\n",
        "print('Вывод переменной b = ',b)"
      ]
    },
    {
      "cell_type": "code",
      "execution_count": null,
      "id": "52629efb",
      "metadata": {
        "id": "52629efb"
      },
      "outputs": [],
      "source": [
        "#Мы можем вывести переменные из ранее запущенных ячеек\n",
        "print(a,b)"
      ]
    },
    {
      "cell_type": "markdown",
      "id": "e4e249e6",
      "metadata": {
        "id": "e4e249e6"
      },
      "source": [
        "### Типы переменных"
      ]
    },
    {
      "cell_type": "code",
      "execution_count": null,
      "id": "6aed7f93",
      "metadata": {
        "id": "6aed7f93"
      },
      "outputs": [],
      "source": [
        "#Числа\n",
        "a = 1\n",
        "b = 2.3\n",
        "c = 1+2j\n",
        "print(type(a))\n",
        "print(type(b))\n",
        "print(type(c))"
      ]
    },
    {
      "cell_type": "code",
      "execution_count": null,
      "id": "9b473dfe",
      "metadata": {
        "id": "9b473dfe"
      },
      "outputs": [],
      "source": [
        "#Конвертация типов переменных\n",
        "a_float = float(a)\n",
        "type(a_float)"
      ]
    },
    {
      "cell_type": "code",
      "execution_count": null,
      "id": "1267c489",
      "metadata": {
        "id": "1267c489"
      },
      "outputs": [],
      "source": [
        "#Строки\n",
        "string_a = 'Какая то строка'\n",
        "print(type(string_a))"
      ]
    },
    {
      "cell_type": "code",
      "execution_count": null,
      "id": "f02fc1ee",
      "metadata": {
        "id": "f02fc1ee"
      },
      "outputs": [],
      "source": [
        "#Булевые переменные\n",
        "a = True\n",
        "print(type(a))\n",
        "print('Но a + a = ',a+a)"
      ]
    },
    {
      "cell_type": "code",
      "execution_count": null,
      "id": "212cb97a",
      "metadata": {
        "id": "212cb97a"
      },
      "outputs": [],
      "source": [
        "#Cписки (list)\n",
        "list_=[1,1,2.3,'str']\n",
        "type(l)"
      ]
    },
    {
      "cell_type": "code",
      "execution_count": null,
      "id": "c18744e9",
      "metadata": {
        "id": "c18744e9"
      },
      "outputs": [],
      "source": [
        "#Множество (set)\n",
        "set_={1,1,2.3,'str'}\n",
        "type(set_)\n"
      ]
    },
    {
      "cell_type": "code",
      "execution_count": null,
      "id": "27176acd",
      "metadata": {
        "id": "27176acd"
      },
      "outputs": [],
      "source": [
        "#Кортежи (turpl)\n",
        "turpl_=(1,1,2.3,'str')\n",
        "type(turpl_)"
      ]
    },
    {
      "cell_type": "markdown",
      "id": "118a67aa",
      "metadata": {
        "id": "118a67aa"
      },
      "source": [
        "### Нюансы присваивания и работы (повышенная сложность)\n",
        "изменяемые типы Python, включающие списки, словари и множества. Скажем, присваивание по смещению в списке фактически\n",
        "изменяет сам списковый объект на месте, а не создает совершенно новый такой объект."
      ]
    },
    {
      "cell_type": "code",
      "execution_count": null,
      "id": "53189a8e",
      "metadata": {
        "id": "53189a8e"
      },
      "outputs": [],
      "source": [
        "L1 = [2, 3, 4]\n",
        "L2 = L1\n",
        "L1[0] = 24\n",
        "print(L1)\n",
        "\n",
        "print('Но и что L2 выглядит',L2)"
      ]
    },
    {
      "cell_type": "code",
      "execution_count": null,
      "id": "9b31ff54",
      "metadata": {
        "id": "9b31ff54"
      },
      "outputs": [],
      "source": [
        "#Можно сделать так, но функция co делает \"поверхностное\" копирование\n",
        "import copy\n",
        "L1 = [2, 3, 4]\n",
        "L2 = copy.copy(L1)\n",
        "L1[0] = 24\n",
        "L2"
      ]
    },
    {
      "cell_type": "code",
      "execution_count": null,
      "id": "f723a6d2",
      "metadata": {
        "id": "f723a6d2"
      },
      "outputs": [],
      "source": [
        "#Модно сделать так\n",
        "L1 = [2, 3, 4]\n",
        "L2 = L1[:]\n",
        "L1[0] = 24\n",
        "L2"
      ]
    },
    {
      "cell_type": "markdown",
      "id": "b5982dba",
      "metadata": {
        "id": "b5982dba"
      },
      "source": [
        "### Задание №1\n",
        "Есть размеры ширина (a) и длина комнаты(b) и высота стен (c), вывести объём комнаты в м3 c плавающей точкой"
      ]
    },
    {
      "cell_type": "code",
      "execution_count": 1,
      "id": "08285930",
      "metadata": {
        "colab": {
          "base_uri": "https://localhost:8080/"
        },
        "id": "08285930",
        "outputId": "4a034da1-61f8-4262-a819-aa7fcdcb65e9"
      },
      "outputs": [
        {
          "output_type": "stream",
          "name": "stdout",
          "text": [
            "36.0\n"
          ]
        }
      ],
      "source": [
        "a = 3\n",
        "b = 4\n",
        "c = 3\n",
        "\n",
        "result = float(a*b*c)\n",
        "print (result)\n",
        "\n"
      ]
    },
    {
      "cell_type": "markdown",
      "id": "24622ae5",
      "metadata": {
        "id": "24622ae5"
      },
      "source": [
        "### Задание №2\n",
        "Есть список значений list_v, выведите список без дубликатов значения\n"
      ]
    },
    {
      "cell_type": "code",
      "execution_count": 2,
      "id": "0a0766ee",
      "metadata": {
        "colab": {
          "base_uri": "https://localhost:8080/"
        },
        "id": "0a0766ee",
        "outputId": "c2e9c11e-bc07-4dfa-860c-d301438a128f"
      },
      "outputs": [
        {
          "output_type": "stream",
          "name": "stdout",
          "text": [
            "[0, 2, 3, 4, 5]\n"
          ]
        }
      ],
      "source": [
        "list_v = [2,2,3,4,5,0,0]\n",
        "\n",
        "import copy\n",
        "\n",
        "list_v = list(set(list_v))\n",
        "\n",
        "print(list_v)"
      ]
    },
    {
      "cell_type": "code",
      "execution_count": null,
      "id": "120304ae",
      "metadata": {
        "id": "120304ae"
      },
      "outputs": [],
      "source": []
    }
  ],
  "metadata": {
    "kernelspec": {
      "display_name": "Python 3",
      "language": "python",
      "name": "python3"
    },
    "language_info": {
      "codemirror_mode": {
        "name": "ipython",
        "version": 3
      },
      "file_extension": ".py",
      "mimetype": "text/x-python",
      "name": "python",
      "nbconvert_exporter": "python",
      "pygments_lexer": "ipython3",
      "version": "3.8.8"
    },
    "colab": {
      "provenance": []
    }
  },
  "nbformat": 4,
  "nbformat_minor": 5
}